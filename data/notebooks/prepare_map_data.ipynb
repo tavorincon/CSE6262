{
 "cells": [
  {
   "cell_type": "code",
   "execution_count": 19,
   "metadata": {},
   "outputs": [],
   "source": [
    "import json\n",
    "import pandas as pd\n",
    "import numpy as np\n",
    "import re\n",
    "import os\n",
    "import requests\n",
    "import dotenv\n",
    "\n",
    "# Load dotenv\n",
    "dotenv.load_dotenv()\n",
    "\n",
    "# Get enviroment variables\n",
    "# ========================\n",
    "MAPBOX_KEY = os.getenv(\"MAPBOX_KEY\")\n",
    "\n",
    "# Create API key for GeoJSON in https://rapidapi.com/VanitySoft/api/boundaries-io-1/\n",
    "# Then copy and paste the key in .env file\n",
    "GEOJSON_KEY = os.getenv(\"GEOJSON_KEY\")"
   ]
  },
  {
   "cell_type": "markdown",
   "metadata": {},
   "source": [
    "# Load Crime Data"
   ]
  },
  {
   "cell_type": "code",
   "execution_count": 20,
   "metadata": {},
   "outputs": [
    {
     "name": "stderr",
     "output_type": "stream",
     "text": [
      "/Users/mrnino/anaconda3/lib/python3.7/site-packages/IPython/core/interactiveshell.py:3058: DtypeWarning: Columns (6,9,10,11,12,15,21) have mixed types.Specify dtype option on import or set low_memory=False.\n",
      "  interactivity=interactivity, compiler=compiler, result=result)\n"
     ]
    },
    {
     "data": {
      "text/plain": [
       "'1,550,285 rows in crime dataset..'"
      ]
     },
     "execution_count": 20,
     "metadata": {},
     "output_type": "execute_result"
    }
   ],
   "source": [
    "# Read CSV file to pandas dataframe\n",
    "df = pd.read_csv('../crime/KCPD_Crime_Data_Complete.csv')\n",
    "\n",
    "# Datatypes of columns\n",
    "\"{:,} rows in crime dataset..\".format(df.shape[0])"
   ]
  },
  {
   "cell_type": "code",
   "execution_count": 21,
   "metadata": {},
   "outputs": [
    {
     "data": {
      "text/plain": [
       "'649 unique Zip Codes and 1,550,284 rows in Crime Data'"
      ]
     },
     "execution_count": 21,
     "metadata": {},
     "output_type": "execute_result"
    }
   ],
   "source": [
    "# Remove rows with non-numeric zip codes\n",
    "df = df[df['Zip Code'].apply(\n",
    "  lambda x: True if type(x) in [float, int] else re.match(r'^-?\\d+(?:\\.\\d+)?$', x) is not None)\n",
    "]\n",
    "\n",
    "# Ensure 5 digit Zip Codes. Convert zip code to string and fill with zeros\n",
    "df['Zip Code'] = df['Zip Code'].fillna(0).astype(float).astype(int).astype(str).str.zfill(5)\n",
    "\n",
    "crime_zipcodes = df['Zip Code'].unique()\n",
    "\n",
    "\"{} unique Zip Codes and {:,} rows in Crime Data\".format(len(crime_zipcodes), df.shape[0])"
   ]
  },
  {
   "cell_type": "markdown",
   "metadata": {},
   "source": [
    "# Obtain GeoJSON for Kansas City from RapidAPI\n",
    "For testing ZIP codes, open [https://kepler.gl/demo](https://kepler.gl/demo) and open the geojson file. "
   ]
  },
  {
   "cell_type": "code",
   "execution_count": 22,
   "metadata": {},
   "outputs": [],
   "source": [
    "url = \"https://vanitysoft-boundaries-io-v1.p.rapidapi.com/reaperfire/rest/v1/public/boundary/zipcode/location\"\n",
    "\n",
    "querystring = {\n",
    "    # Center of Kansas City\n",
    "    \"latitude\": \"39.099225\",\n",
    "    \"longitude\": \"-94.5839147\",\n",
    "    # Radius of search (45 miles)\n",
    "    \"radius\":\"45\",\n",
    "    \"showDetails\":\"true\"\n",
    "}\n",
    "\n",
    "headers = {\n",
    "    'x-rapidapi-host': \"vanitysoft-boundaries-io-v1.p.rapidapi.com\",\n",
    "    'x-rapidapi-key': GEOJSON_KEY\n",
    "    }\n",
    "\n",
    "zipcodes_45mi_from_KC = requests.request(\"GET\", url, headers=headers, params=querystring)\n",
    "\n",
    "# Convert to JSON\n",
    "with open('../map/zipcodes_45mi_clean.geojson', 'w') as f:\n",
    "    f.write(zipcodes_45mi_from_KC.text)"
   ]
  },
  {
   "cell_type": "markdown",
   "metadata": {},
   "source": [
    "### Alternative plan. Obtain data for all ZIP codes in crime data. "
   ]
  },
  {
   "cell_type": "code",
   "execution_count": 23,
   "metadata": {},
   "outputs": [],
   "source": [
    "import requests\n",
    "\n",
    "url = \"https://vanitysoft-boundaries-io-v1.p.rapidapi.com/rest/v1/public/boundary/zipcode\"\n",
    "\n",
    "querystring = {\"combine\":\"false\"}\n",
    "\n",
    "payload = list(crime_zipcodes)\n",
    "headers = {\n",
    "    'content-type': \"application/json\",\n",
    "    'x-rapidapi-host': \"vanitysoft-boundaries-io-v1.p.rapidapi.com\",\n",
    "    'x-rapidapi-key': GEOJSON_KEY\n",
    "    }\n",
    "\n",
    "crime_geojson_api = requests.request(\"POST\", url, data=json.dumps(payload), headers=headers, params=querystring)\n",
    "\n",
    "with open('../map/zipcodes_in_crimeKC.geojson', 'w') as f:\n",
    "    f.write(crime_geojson_api.text)"
   ]
  },
  {
   "cell_type": "code",
   "execution_count": 24,
   "metadata": {},
   "outputs": [],
   "source": [
    "# Write all zip codes to file\n",
    "with open('../map/list_zipcodes_KansasCity.txt', 'w') as f:\n",
    "    f.write('\\n'.join([\n",
    "    feature['properties']['zipCode']\n",
    "    for feature in data['features']\n",
    "]))\n"
   ]
  },
  {
   "cell_type": "markdown",
   "metadata": {},
   "source": [
    "### Proportion of crimes within 45 miles range"
   ]
  },
  {
   "cell_type": "code",
   "execution_count": 25,
   "metadata": {},
   "outputs": [
    {
     "name": "stdout",
     "output_type": "stream",
     "text": [
      "171/649 zip codes with crime data within Kansas City\n"
     ]
    }
   ],
   "source": [
    "# Parse JSON response\n",
    "data = json.loads(zipcodes_45mi_from_KC.text) \n",
    "\n",
    "# Filter geojson to only include zip codes with crime data\n",
    "zip_codes_with_crime = [\n",
    "    feature['properties']['zipCode']\n",
    "    for feature in data['features']\n",
    "    if feature['properties']['zipCode'] in crime_zipcodes\n",
    "]\n",
    "\n",
    "print(\"{}/{} zip codes with crime data within Kansas City\".format(len(zip_codes_with_crime), len(crime_zipcodes)))"
   ]
  },
  {
   "cell_type": "code",
   "execution_count": 26,
   "metadata": {},
   "outputs": [
    {
     "name": "stdout",
     "output_type": "stream",
     "text": [
      "      95.2% of crimes with ZIP code within Kansas City\n"
     ]
    }
   ],
   "source": [
    "# Count number of crimes per zip code\n",
    "crime_by_zipcode = df.groupby('Zip Code').size().reset_index(name='count').sort_values('count', ascending=False)\n",
    "crime_by_zipcode['with_zip_code'] = crime_by_zipcode['Zip Code'].isin(zip_codes_with_crime) \n",
    "\n",
    "print(\"{0:10.1f}% of crimes with ZIP code within Kansas City\".format( \n",
    "  100 * sum(crime_by_zipcode[crime_by_zipcode['with_zip_code'] == True]['count']) / sum(crime_by_zipcode['count']))\n",
    ")\n",
    "\n",
    "# If you want to see that in Excel, you can use this code\n",
    "# crime_by_zipcode.to_csv('../crime/crimes_count_by_zipcode.csv')"
   ]
  },
  {
   "cell_type": "markdown",
   "metadata": {},
   "source": [
    "# Prepare crime data for map"
   ]
  },
  {
   "cell_type": "code",
   "execution_count": 27,
   "metadata": {},
   "outputs": [],
   "source": [
    "# Dictionary of zip codes and count of crimes\n",
    "zip_code_counts = {\n",
    "    zipcode: count\n",
    "    for zipcode, count in zip(crime_by_zipcode['Zip Code'], crime_by_zipcode['count'])\n",
    "}\n",
    "\n",
    "# Add count of crimes to geojson\n",
    "for feature in data['features']:\n",
    "    zipcode = feature['properties']['zipCode']\n",
    "    feature['properties']['crime_count'] = zip_code_counts.get(zipcode, 0)\n",
    "\n",
    "with open('../map/45mi_with_crimes.geojson', 'w') as f:\n",
    "    json.dump(data, f)"
   ]
  },
  {
   "cell_type": "markdown",
   "metadata": {},
   "source": [
    "# Work in Progress. Extract lat/lon from LOCATION"
   ]
  },
  {
   "cell_type": "code",
   "execution_count": 28,
   "metadata": {},
   "outputs": [
    {
     "name": "stdout",
     "output_type": "stream",
     "text": [
      "1100 LOCUST ST\n",
      "KANSAS CITY, MO 64106\n",
      "(39.100854728000456, -94.57737538399965)\n"
     ]
    },
    {
     "data": {
      "text/plain": [
       "(None, None)"
      ]
     },
     "execution_count": 28,
     "metadata": {},
     "output_type": "execute_result"
    }
   ],
   "source": [
    "# Extract latitude and longitude from address text usign regex\n",
    "import re\n",
    "\n",
    "\n",
    "def extract_lat_long(address):\n",
    "    # \\((\\d+\\.\\d+),\\s*(-?\\d+\\.\\d+)\\)\n",
    "    # \\(([0-9\\.]+), ([0-9\\.]+)\\)\n",
    "    match = re.search(r'x', address)\n",
    "    if match:\n",
    "        return float(match.group(1)), float(match.group(2))\n",
    "    else:\n",
    "        return None, None\n",
    "\n",
    "print(df['Location'][1])\n",
    "extract_lat_long(df['Location'][1])"
   ]
  }
 ],
 "metadata": {
  "interpreter": {
   "hash": "fd57a6f198c5bcc4645c1b13de16e9accfcd0cda319ba40351c9d50107506e81"
  },
  "kernelspec": {
   "display_name": "Python 3.7.4 64-bit ('base': conda)",
   "language": "python",
   "name": "python3"
  },
  "language_info": {
   "codemirror_mode": {
    "name": "ipython",
    "version": 3
   },
   "file_extension": ".py",
   "mimetype": "text/x-python",
   "name": "python",
   "nbconvert_exporter": "python",
   "pygments_lexer": "ipython3",
   "version": "3.7.4"
  },
  "orig_nbformat": 4
 },
 "nbformat": 4,
 "nbformat_minor": 2
}
