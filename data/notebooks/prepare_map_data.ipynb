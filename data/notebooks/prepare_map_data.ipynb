{
 "cells": [
  {
   "cell_type": "code",
   "execution_count": 1,
   "metadata": {},
   "outputs": [],
   "source": [
    "import json\n",
    "import pandas as pd\n",
    "import numpy as np\n",
    "import re\n",
    "import os\n",
    "import requests\n",
    "import dotenv\n",
    "\n",
    "# Load dotenv\n",
    "dotenv.load_dotenv()\n",
    "\n",
    "# Get enviroment variables\n",
    "# ========================\n",
    "MAPBOX_KEY = os.getenv(\"MAPBOX_KEY\")\n",
    "\n",
    "# Create API key for GeoJSON in https://rapidapi.com/VanitySoft/api/boundaries-io-1/\n",
    "# Then copy and paste the key in .env file\n",
    "GEOJSON_KEY = os.getenv(\"GEOJSON_KEY\")"
   ]
  },
  {
   "cell_type": "markdown",
   "metadata": {},
   "source": [
    "# Load Crime Data"
   ]
  },
  {
   "cell_type": "code",
   "execution_count": 2,
   "metadata": {},
   "outputs": [
    {
     "name": "stderr",
     "output_type": "stream",
     "text": [
      "/Users/mrnino/anaconda3/lib/python3.7/site-packages/IPython/core/interactiveshell.py:3058: DtypeWarning: Columns (6,9,10,11,12,15,21) have mixed types.Specify dtype option on import or set low_memory=False.\n",
      "  interactivity=interactivity, compiler=compiler, result=result)\n"
     ]
    },
    {
     "data": {
      "text/plain": [
       "'1,550,285 rows in crime dataset..'"
      ]
     },
     "execution_count": 2,
     "metadata": {},
     "output_type": "execute_result"
    }
   ],
   "source": [
    "# Read CSV file to pandas dataframe\n",
    "df = pd.read_csv('../crime/KCPD_Crime_Data_Complete.csv')\n",
    "\n",
    "# Datatypes of columns\n",
    "\"{:,} rows in crime dataset..\".format(df.shape[0])"
   ]
  },
  {
   "cell_type": "code",
   "execution_count": 3,
   "metadata": {},
   "outputs": [
    {
     "data": {
      "text/plain": [
       "'649 unique Zip Codes and 1,550,284 rows in Crime Data'"
      ]
     },
     "execution_count": 3,
     "metadata": {},
     "output_type": "execute_result"
    }
   ],
   "source": [
    "# Remove rows with non-numeric zip codes\n",
    "df = df[df['Zip Code'].apply(\n",
    "  lambda x: True if type(x) in [float, int] else re.match(r'^-?\\d+(?:\\.\\d+)?$', x) is not None)\n",
    "]\n",
    "\n",
    "# Ensure 5 digit Zip Codes. Convert zip code to string and fill with zeros\n",
    "df['Zip Code'] = df['Zip Code'].fillna(0).astype(float).astype(int).astype(str).str.zfill(5)\n",
    "\n",
    "crime_zipcodes = df['Zip Code'].unique()\n",
    "\n",
    "\"{} unique Zip Codes and {:,} rows in Crime Data\".format(len(crime_zipcodes), df.shape[0])"
   ]
  },
  {
   "cell_type": "markdown",
   "metadata": {},
   "source": [
    "# Obtain GeoJSON for Kansas City from RapidAPI\n",
    "For testing ZIP codes, open [https://kepler.gl/demo](https://kepler.gl/demo) and open the geojson file. "
   ]
  },
  {
   "cell_type": "code",
   "execution_count": 4,
   "metadata": {},
   "outputs": [],
   "source": [
    "url = \"https://vanitysoft-boundaries-io-v1.p.rapidapi.com/reaperfire/rest/v1/public/boundary/zipcode/location\"\n",
    "\n",
    "querystring = {\n",
    "    # Center of Kansas City\n",
    "    \"latitude\": \"39.099225\",\n",
    "    \"longitude\": \"-94.5839147\",\n",
    "    # Radius of search (45 miles)\n",
    "    \"radius\":\"45\",\n",
    "    \"showDetails\":\"true\"\n",
    "}\n",
    "\n",
    "headers = {\n",
    "    'x-rapidapi-host': \"vanitysoft-boundaries-io-v1.p.rapidapi.com\",\n",
    "    'x-rapidapi-key': GEOJSON_KEY\n",
    "    }\n",
    "\n",
    "zipcodes_45mi_from_KC = requests.request(\"GET\", url, headers=headers, params=querystring)\n",
    "\n",
    "# Convert to JSON\n",
    "with open('../map/zipcodes_45mi_clean.geojson', 'w') as f:\n",
    "    f.write(zipcodes_45mi_from_KC.text)"
   ]
  },
  {
   "cell_type": "markdown",
   "metadata": {},
   "source": [
    "### Alternative plan. Obtain data for all ZIP codes in crime data. "
   ]
  },
  {
   "cell_type": "code",
   "execution_count": 5,
   "metadata": {},
   "outputs": [],
   "source": [
    "import requests\n",
    "\n",
    "url = \"https://vanitysoft-boundaries-io-v1.p.rapidapi.com/rest/v1/public/boundary/zipcode\"\n",
    "\n",
    "querystring = {\"combine\":\"false\"}\n",
    "\n",
    "payload = list(crime_zipcodes)\n",
    "headers = {\n",
    "    'content-type': \"application/json\",\n",
    "    'x-rapidapi-host': \"vanitysoft-boundaries-io-v1.p.rapidapi.com\",\n",
    "    'x-rapidapi-key': GEOJSON_KEY\n",
    "    }\n",
    "\n",
    "crime_geojson_api = requests.request(\"POST\", url, data=json.dumps(payload), headers=headers, params=querystring)\n",
    "\n",
    "with open('../map/zipcodes_in_crimeKC.geojson', 'w') as f:\n",
    "    f.write(crime_geojson_api.text)\n",
    "\n"
   ]
  },
  {
   "cell_type": "code",
   "execution_count": 6,
   "metadata": {},
   "outputs": [],
   "source": [
    "# Parse JSON response\n",
    "data = json.loads(zipcodes_45mi_from_KC.text) \n",
    "\n",
    "# Write all zip codes to file\n",
    "with open('../map/list_zipcodes_KansasCity.txt', 'w') as f:\n",
    "    f.write('\\n'.join([\n",
    "    feature['properties']['zipCode']\n",
    "    for feature in data['features']\n",
    "]))\n"
   ]
  },
  {
   "cell_type": "markdown",
   "metadata": {},
   "source": [
    "### Proportion of crimes within 45 miles range"
   ]
  },
  {
   "cell_type": "code",
   "execution_count": 7,
   "metadata": {},
   "outputs": [
    {
     "name": "stdout",
     "output_type": "stream",
     "text": [
      "171/649 zip codes with crime data within Kansas City\n"
     ]
    }
   ],
   "source": [
    "\n",
    "# Filter geojson to only include zip codes with crime data\n",
    "zip_codes_with_crime = [\n",
    "    feature['properties']['zipCode']\n",
    "    for feature in data['features']\n",
    "    if feature['properties']['zipCode'] in crime_zipcodes\n",
    "]\n",
    "\n",
    "print(\"{}/{} zip codes with crime data within Kansas City\".format(len(zip_codes_with_crime), len(crime_zipcodes)))"
   ]
  },
  {
   "cell_type": "code",
   "execution_count": 8,
   "metadata": {},
   "outputs": [
    {
     "name": "stdout",
     "output_type": "stream",
     "text": [
      "      95.2% of crimes with ZIP code within Kansas City\n"
     ]
    }
   ],
   "source": [
    "# Count number of crimes per zip code\n",
    "crime_by_zipcode = df.groupby('Zip Code').size().reset_index(name='count').sort_values('count', ascending=False)\n",
    "crime_by_zipcode['with_zip_code'] = crime_by_zipcode['Zip Code'].isin(zip_codes_with_crime) \n",
    "\n",
    "print(\"{0:10.1f}% of crimes with ZIP code within Kansas City\".format( \n",
    "  100 * sum(crime_by_zipcode[crime_by_zipcode['with_zip_code'] == True]['count']) / sum(crime_by_zipcode['count']))\n",
    ")\n",
    "\n",
    "\n",
    "# If you want to see that in Excel, you can use this code\n",
    "# crime_by_zipcode.to_csv('../crime/crimes_count_by_zipcode.csv')"
   ]
  },
  {
   "cell_type": "markdown",
   "metadata": {},
   "source": [
    "# Prepare crime data for map"
   ]
  },
  {
   "cell_type": "code",
   "execution_count": 9,
   "metadata": {},
   "outputs": [],
   "source": [
    "# Dictionary of zip codes and count of crimes\n",
    "zip_code_counts = {\n",
    "    zipcode: count\n",
    "    for zipcode, count in zip(crime_by_zipcode['Zip Code'], crime_by_zipcode['count'])\n",
    "}\n",
    "\n",
    "# Add count of crimes to geojson\n",
    "for feature in data['features']:\n",
    "    zipcode = feature['properties']['zipCode']\n",
    "    feature['properties']['crime_count'] = zip_code_counts.get(zipcode, 0)\n",
    "\n",
    "with open('../map/45mi_with_crimes.geojson', 'w') as f:\n",
    "    json.dump(data, f)"
   ]
  },
  {
   "cell_type": "markdown",
   "metadata": {},
   "source": [
    "# Work in Progress. Extract lat/lon from LOCATION"
   ]
  },
  {
   "cell_type": "code",
   "execution_count": 10,
   "metadata": {},
   "outputs": [],
   "source": [
    "import datetime"
   ]
  },
  {
   "cell_type": "code",
   "execution_count": 11,
   "metadata": {},
   "outputs": [],
   "source": [
    "# Extract latitude and longitude from address text usign regex\n",
    "def extract_lat_long(address):\n",
    "    # Match lat and long\n",
    "    match = re.search(r'\\((\\d+\\.\\d+),*\\s*(-?\\d+\\.\\d+)\\)', str(address))\n",
    "    if match:\n",
    "        return float(match.group(1)), float(match.group(2))\n",
    "    \n",
    "    # Match long and lat\n",
    "    match_inv = re.search(r'\\((-?\\d+\\.\\d+),*\\s*(\\d+\\.\\d+)\\)', str(address))\n",
    "    if match_inv:\n",
    "        return float(match_inv.group(2)), float(match_inv.group(1))\n",
    "    \n",
    "    # No match\n",
    "    return None, None\n",
    "        \n",
    "\n",
    "# Add latitude and longitude to crime data\n",
    "df['latitude'] = df['Location'].apply(extract_lat_long).apply(lambda x: x[0])\n",
    "df['longitude'] = df['Location'].apply(extract_lat_long).apply(lambda x: x[1])\n"
   ]
  },
  {
   "cell_type": "code",
   "execution_count": 12,
   "metadata": {},
   "outputs": [
    {
     "data": {
      "text/html": [
       "<div>\n",
       "<style scoped>\n",
       "    .dataframe tbody tr th:only-of-type {\n",
       "        vertical-align: middle;\n",
       "    }\n",
       "\n",
       "    .dataframe tbody tr th {\n",
       "        vertical-align: top;\n",
       "    }\n",
       "\n",
       "    .dataframe thead th {\n",
       "        text-align: right;\n",
       "    }\n",
       "</style>\n",
       "<table border=\"1\" class=\"dataframe\">\n",
       "  <thead>\n",
       "    <tr style=\"text-align: right;\">\n",
       "      <th></th>\n",
       "      <th>Zip Code</th>\n",
       "      <th>zc_latitude</th>\n",
       "      <th>zc_longitude</th>\n",
       "    </tr>\n",
       "  </thead>\n",
       "  <tbody>\n",
       "    <tr>\n",
       "      <th>0</th>\n",
       "      <td>64011</td>\n",
       "      <td>38.968902</td>\n",
       "      <td>-94.066107</td>\n",
       "    </tr>\n",
       "    <tr>\n",
       "      <th>1</th>\n",
       "      <td>64012</td>\n",
       "      <td>38.828092</td>\n",
       "      <td>-94.513432</td>\n",
       "    </tr>\n",
       "    <tr>\n",
       "      <th>2</th>\n",
       "      <td>64013</td>\n",
       "      <td>39.072736</td>\n",
       "      <td>-94.552790</td>\n",
       "    </tr>\n",
       "    <tr>\n",
       "      <th>3</th>\n",
       "      <td>64014</td>\n",
       "      <td>39.017471</td>\n",
       "      <td>-94.415875</td>\n",
       "    </tr>\n",
       "    <tr>\n",
       "      <th>4</th>\n",
       "      <td>64015</td>\n",
       "      <td>39.017540</td>\n",
       "      <td>-94.278074</td>\n",
       "    </tr>\n",
       "    <tr>\n",
       "      <th>...</th>\n",
       "      <td>...</td>\n",
       "      <td>...</td>\n",
       "      <td>...</td>\n",
       "    </tr>\n",
       "    <tr>\n",
       "      <th>159</th>\n",
       "      <td>66213</td>\n",
       "      <td>38.898831</td>\n",
       "      <td>-94.702377</td>\n",
       "    </tr>\n",
       "    <tr>\n",
       "      <th>160</th>\n",
       "      <td>66214</td>\n",
       "      <td>38.943920</td>\n",
       "      <td>-94.584399</td>\n",
       "    </tr>\n",
       "    <tr>\n",
       "      <th>161</th>\n",
       "      <td>66215</td>\n",
       "      <td>38.938260</td>\n",
       "      <td>-94.752552</td>\n",
       "    </tr>\n",
       "    <tr>\n",
       "      <th>162</th>\n",
       "      <td>66223</td>\n",
       "      <td>39.009104</td>\n",
       "      <td>-94.509520</td>\n",
       "    </tr>\n",
       "    <tr>\n",
       "      <th>163</th>\n",
       "      <td>66227</td>\n",
       "      <td>38.982810</td>\n",
       "      <td>-94.860266</td>\n",
       "    </tr>\n",
       "  </tbody>\n",
       "</table>\n",
       "<p>164 rows × 3 columns</p>\n",
       "</div>"
      ],
      "text/plain": [
       "    Zip Code  zc_latitude  zc_longitude\n",
       "0      64011    38.968902    -94.066107\n",
       "1      64012    38.828092    -94.513432\n",
       "2      64013    39.072736    -94.552790\n",
       "3      64014    39.017471    -94.415875\n",
       "4      64015    39.017540    -94.278074\n",
       "..       ...          ...           ...\n",
       "159    66213    38.898831    -94.702377\n",
       "160    66214    38.943920    -94.584399\n",
       "161    66215    38.938260    -94.752552\n",
       "162    66223    39.009104    -94.509520\n",
       "163    66227    38.982810    -94.860266\n",
       "\n",
       "[164 rows x 3 columns]"
      ]
     },
     "execution_count": 12,
     "metadata": {},
     "output_type": "execute_result"
    }
   ],
   "source": [
    "\n",
    "zipcodes_in_map = [feature['properties']['zipCode'] for feature in data['features']]\n",
    "with_location = df[df['Zip Code'].isin(zipcodes_in_map) & (df['latitude'].notnull() & df['longitude'].notnull())]\n",
    "\n",
    "# Calculate average latitude and longitude by zip code\n",
    "zip_code_center = with_location.groupby('Zip Code').agg({\n",
    "    'latitude': 'median',\n",
    "    'longitude': 'median'\n",
    "}).reset_index().rename(columns={\n",
    "    'latitude': 'zc_latitude',\n",
    "    'longitude': 'zc_longitude'\n",
    "})\n",
    "\n",
    "zip_code_center"
   ]
  },
  {
   "cell_type": "code",
   "execution_count": 13,
   "metadata": {},
   "outputs": [
    {
     "data": {
      "text/html": [
       "<div>\n",
       "<style scoped>\n",
       "    .dataframe tbody tr th:only-of-type {\n",
       "        vertical-align: middle;\n",
       "    }\n",
       "\n",
       "    .dataframe tbody tr th {\n",
       "        vertical-align: top;\n",
       "    }\n",
       "\n",
       "    .dataframe thead th {\n",
       "        text-align: right;\n",
       "    }\n",
       "</style>\n",
       "<table border=\"1\" class=\"dataframe\">\n",
       "  <thead>\n",
       "    <tr style=\"text-align: right;\">\n",
       "      <th></th>\n",
       "      <th>Reported_Date</th>\n",
       "      <th>Reported Time</th>\n",
       "      <th>datetime</th>\n",
       "    </tr>\n",
       "  </thead>\n",
       "  <tbody>\n",
       "    <tr>\n",
       "      <th>0</th>\n",
       "      <td>10/6/2009 0:00</td>\n",
       "      <td>3:24</td>\n",
       "      <td>2009-10-06 03:24:00</td>\n",
       "    </tr>\n",
       "    <tr>\n",
       "      <th>1</th>\n",
       "      <td>2/5/2009 0:00</td>\n",
       "      <td>11:45</td>\n",
       "      <td>2009-02-05 11:45:00</td>\n",
       "    </tr>\n",
       "    <tr>\n",
       "      <th>2</th>\n",
       "      <td>6/18/2009 0:00</td>\n",
       "      <td>22:50</td>\n",
       "      <td>2009-06-18 22:50:00</td>\n",
       "    </tr>\n",
       "    <tr>\n",
       "      <th>3</th>\n",
       "      <td>1/28/2009 0:00</td>\n",
       "      <td>18:44</td>\n",
       "      <td>2009-01-28 18:44:00</td>\n",
       "    </tr>\n",
       "    <tr>\n",
       "      <th>4</th>\n",
       "      <td>2/5/2009 0:00</td>\n",
       "      <td>11:45</td>\n",
       "      <td>2009-02-05 11:45:00</td>\n",
       "    </tr>\n",
       "    <tr>\n",
       "      <th>...</th>\n",
       "      <td>...</td>\n",
       "      <td>...</td>\n",
       "      <td>...</td>\n",
       "    </tr>\n",
       "    <tr>\n",
       "      <th>1550280</th>\n",
       "      <td>10/23/2021</td>\n",
       "      <td>8:34</td>\n",
       "      <td>2021-10-23 08:34:00</td>\n",
       "    </tr>\n",
       "    <tr>\n",
       "      <th>1550281</th>\n",
       "      <td>10/26/2021</td>\n",
       "      <td>18:28</td>\n",
       "      <td>2021-10-26 18:28:00</td>\n",
       "    </tr>\n",
       "    <tr>\n",
       "      <th>1550282</th>\n",
       "      <td>10/28/2021</td>\n",
       "      <td>14:43</td>\n",
       "      <td>2021-10-28 14:43:00</td>\n",
       "    </tr>\n",
       "    <tr>\n",
       "      <th>1550283</th>\n",
       "      <td>10/30/2021</td>\n",
       "      <td>11:03</td>\n",
       "      <td>2021-10-30 11:03:00</td>\n",
       "    </tr>\n",
       "    <tr>\n",
       "      <th>1550284</th>\n",
       "      <td>10/26/2021</td>\n",
       "      <td>14:44</td>\n",
       "      <td>2021-10-26 14:44:00</td>\n",
       "    </tr>\n",
       "  </tbody>\n",
       "</table>\n",
       "<p>1550284 rows × 3 columns</p>\n",
       "</div>"
      ],
      "text/plain": [
       "          Reported_Date Reported Time            datetime\n",
       "0        10/6/2009 0:00          3:24 2009-10-06 03:24:00\n",
       "1         2/5/2009 0:00         11:45 2009-02-05 11:45:00\n",
       "2        6/18/2009 0:00         22:50 2009-06-18 22:50:00\n",
       "3        1/28/2009 0:00         18:44 2009-01-28 18:44:00\n",
       "4         2/5/2009 0:00         11:45 2009-02-05 11:45:00\n",
       "...                 ...           ...                 ...\n",
       "1550280      10/23/2021          8:34 2021-10-23 08:34:00\n",
       "1550281      10/26/2021         18:28 2021-10-26 18:28:00\n",
       "1550282      10/28/2021         14:43 2021-10-28 14:43:00\n",
       "1550283      10/30/2021         11:03 2021-10-30 11:03:00\n",
       "1550284      10/26/2021         14:44 2021-10-26 14:44:00\n",
       "\n",
       "[1550284 rows x 3 columns]"
      ]
     },
     "execution_count": 13,
     "metadata": {},
     "output_type": "execute_result"
    }
   ],
   "source": [
    "# Convert reported date and time to datetime\n",
    "df['datetime'] = pd.to_datetime(df[['Reported_Date', 'Reported Time']]\n",
    "                   .astype(str).apply(' '.join, 1), errors='coerce' )\n",
    "\n",
    "df[['Reported_Date', 'Reported Time', 'datetime']]"
   ]
  },
  {
   "cell_type": "code",
   "execution_count": 14,
   "metadata": {},
   "outputs": [
    {
     "name": "stdout",
     "output_type": "stream",
     "text": [
      "76.8% with location data in last year\n",
      "98.8% with location data after filling with zip code center\n"
     ]
    }
   ],
   "source": [
    "# Filter crimes by report date in last year\n",
    "last_year_ago = datetime.datetime.now() - datetime.timedelta(days=365)\n",
    "# last_year = df[df['datetime'] >= last_year_ago]\n",
    "\n",
    "# Print percentage with location\n",
    "n_rows_ori = len(last_year)\n",
    "n_rows_with_location = len(last_year[(last_year['latitude'].notnull() & last_year['longitude'].notnull())])\n",
    "percent_with_location = round(n_rows_with_location / n_rows_ori * 100, 1)\n",
    "print(\"{}% with location data in last year\".format(percent_with_location))\n",
    "\n",
    "# Fill missing latitude and longitude with zip code center\n",
    "last_year = last_year.merge(zip_code_center, on='Zip Code', how='left')\n",
    "last_year.loc[last_year['latitude'].isnull(), 'latitude'] = last_year['zc_latitude']\n",
    "last_year.loc[last_year['longitude'].isnull(), 'longitude'] = last_year['zc_longitude']\n",
    "\n",
    "# Filter rows with missing latitude or longitude\n",
    "last_year = last_year[(last_year['latitude'].notnull() & last_year['longitude'].notnull())]\n",
    "n_rows_with_location = len(last_year)\n",
    "percent_with_location = round(n_rows_with_location / n_rows_ori * 100, 1)\n",
    "print(\"{}% with location data after filling with zip code center\".format(percent_with_location))"
   ]
  },
  {
   "cell_type": "code",
   "execution_count": 15,
   "metadata": {},
   "outputs": [
    {
     "data": {
      "text/html": [
       "<div>\n",
       "<style scoped>\n",
       "    .dataframe tbody tr th:only-of-type {\n",
       "        vertical-align: middle;\n",
       "    }\n",
       "\n",
       "    .dataframe tbody tr th {\n",
       "        vertical-align: top;\n",
       "    }\n",
       "\n",
       "    .dataframe thead th {\n",
       "        text-align: right;\n",
       "    }\n",
       "</style>\n",
       "<table border=\"1\" class=\"dataframe\">\n",
       "  <thead>\n",
       "    <tr style=\"text-align: right;\">\n",
       "      <th></th>\n",
       "      <th>datetime</th>\n",
       "      <th>Firearm Used Flag</th>\n",
       "      <th>latitude</th>\n",
       "      <th>longitude</th>\n",
       "    </tr>\n",
       "  </thead>\n",
       "  <tbody>\n",
       "    <tr>\n",
       "      <th>0</th>\n",
       "      <td>2020-12-19 09:42:00</td>\n",
       "      <td>False</td>\n",
       "      <td>39.106855</td>\n",
       "      <td>-94.540444</td>\n",
       "    </tr>\n",
       "    <tr>\n",
       "      <th>2</th>\n",
       "      <td>2020-12-22 04:49:00</td>\n",
       "      <td>False</td>\n",
       "      <td>39.085071</td>\n",
       "      <td>-94.581577</td>\n",
       "    </tr>\n",
       "    <tr>\n",
       "      <th>3</th>\n",
       "      <td>2020-12-23 12:22:00</td>\n",
       "      <td>False</td>\n",
       "      <td>39.269786</td>\n",
       "      <td>-94.471386</td>\n",
       "    </tr>\n",
       "    <tr>\n",
       "      <th>4</th>\n",
       "      <td>2020-12-04 15:54:00</td>\n",
       "      <td>False</td>\n",
       "      <td>39.033322</td>\n",
       "      <td>-94.545707</td>\n",
       "    </tr>\n",
       "    <tr>\n",
       "      <th>6</th>\n",
       "      <td>2020-12-09 20:30:00</td>\n",
       "      <td>False</td>\n",
       "      <td>39.067404</td>\n",
       "      <td>-94.538575</td>\n",
       "    </tr>\n",
       "    <tr>\n",
       "      <th>...</th>\n",
       "      <td>...</td>\n",
       "      <td>...</td>\n",
       "      <td>...</td>\n",
       "      <td>...</td>\n",
       "    </tr>\n",
       "    <tr>\n",
       "      <th>84037</th>\n",
       "      <td>2021-10-31 17:18:00</td>\n",
       "      <td>False</td>\n",
       "      <td>39.234274</td>\n",
       "      <td>-94.665822</td>\n",
       "    </tr>\n",
       "    <tr>\n",
       "      <th>84038</th>\n",
       "      <td>2021-10-23 08:34:00</td>\n",
       "      <td>False</td>\n",
       "      <td>39.098581</td>\n",
       "      <td>-94.582150</td>\n",
       "    </tr>\n",
       "    <tr>\n",
       "      <th>84039</th>\n",
       "      <td>2021-10-26 18:28:00</td>\n",
       "      <td>False</td>\n",
       "      <td>39.137175</td>\n",
       "      <td>-94.512021</td>\n",
       "    </tr>\n",
       "    <tr>\n",
       "      <th>84041</th>\n",
       "      <td>2021-10-30 11:03:00</td>\n",
       "      <td>False</td>\n",
       "      <td>39.112165</td>\n",
       "      <td>-94.522384</td>\n",
       "    </tr>\n",
       "    <tr>\n",
       "      <th>84042</th>\n",
       "      <td>2021-10-26 14:44:00</td>\n",
       "      <td>False</td>\n",
       "      <td>38.932079</td>\n",
       "      <td>-94.503363</td>\n",
       "    </tr>\n",
       "  </tbody>\n",
       "</table>\n",
       "<p>83011 rows × 4 columns</p>\n",
       "</div>"
      ],
      "text/plain": [
       "                 datetime Firearm Used Flag   latitude  longitude\n",
       "0     2020-12-19 09:42:00             False  39.106855 -94.540444\n",
       "2     2020-12-22 04:49:00             False  39.085071 -94.581577\n",
       "3     2020-12-23 12:22:00             False  39.269786 -94.471386\n",
       "4     2020-12-04 15:54:00             False  39.033322 -94.545707\n",
       "6     2020-12-09 20:30:00             False  39.067404 -94.538575\n",
       "...                   ...               ...        ...        ...\n",
       "84037 2021-10-31 17:18:00             False  39.234274 -94.665822\n",
       "84038 2021-10-23 08:34:00             False  39.098581 -94.582150\n",
       "84039 2021-10-26 18:28:00             False  39.137175 -94.512021\n",
       "84041 2021-10-30 11:03:00             False  39.112165 -94.522384\n",
       "84042 2021-10-26 14:44:00             False  38.932079 -94.503363\n",
       "\n",
       "[83011 rows x 4 columns]"
      ]
     },
     "execution_count": 15,
     "metadata": {},
     "output_type": "execute_result"
    }
   ],
   "source": [
    "# Select latitude and longitude columns\n",
    "last_year = last_year[['datetime', 'Zip Code', 'Firearm Used Flag', 'latitude', 'longitude']]\n",
    "last_year"
   ]
  },
  {
   "cell_type": "markdown",
   "metadata": {},
   "source": [
    "# En lugar de escribir a un .CSV .. escribir en la base de datos"
   ]
  },
  {
   "cell_type": "code",
   "execution_count": 16,
   "metadata": {},
   "outputs": [],
   "source": [
    "# https://pandas.pydata.org/docs/reference/api/pandas.DataFrame.to_sql.html\n",
    "last_year.to_csv('../crime/test_latlon.csv', index=False)"
   ]
  },
  {
   "cell_type": "code",
   "execution_count": 17,
   "metadata": {},
   "outputs": [
    {
     "data": {
      "text/plain": [
       "array([False, True], dtype=object)"
      ]
     },
     "execution_count": 17,
     "metadata": {},
     "output_type": "execute_result"
    }
   ],
   "source": [
    "\n",
    "\n",
    "df.loc[df['Firearm Used Flag'].isin(['Y', 'True']), 'Firearm Used Flag'] = True\n",
    "df.loc[df['Firearm Used Flag'].isin(['N', 'False']), 'Firearm Used Flag'] = False\n",
    "df['Firearm Used Flag'].unique()"
   ]
  },
  {
   "cell_type": "code",
   "execution_count": 18,
   "metadata": {},
   "outputs": [
    {
     "data": {
      "text/html": [
       "<div>\n",
       "<style scoped>\n",
       "    .dataframe tbody tr th:only-of-type {\n",
       "        vertical-align: middle;\n",
       "    }\n",
       "\n",
       "    .dataframe tbody tr th {\n",
       "        vertical-align: top;\n",
       "    }\n",
       "\n",
       "    .dataframe thead th {\n",
       "        text-align: right;\n",
       "    }\n",
       "</style>\n",
       "<table border=\"1\" class=\"dataframe\">\n",
       "  <thead>\n",
       "    <tr style=\"text-align: right;\">\n",
       "      <th>Firearm Used Flag</th>\n",
       "      <th>False</th>\n",
       "      <th>True</th>\n",
       "    </tr>\n",
       "    <tr>\n",
       "      <th>Zip Code</th>\n",
       "      <th></th>\n",
       "      <th></th>\n",
       "    </tr>\n",
       "  </thead>\n",
       "  <tbody>\n",
       "    <tr>\n",
       "      <th>64011</th>\n",
       "      <td>10.0</td>\n",
       "      <td>NaN</td>\n",
       "    </tr>\n",
       "    <tr>\n",
       "      <th>64012</th>\n",
       "      <td>132.0</td>\n",
       "      <td>NaN</td>\n",
       "    </tr>\n",
       "    <tr>\n",
       "      <th>64013</th>\n",
       "      <td>7.0</td>\n",
       "      <td>2.0</td>\n",
       "    </tr>\n",
       "    <tr>\n",
       "      <th>64014</th>\n",
       "      <td>20.0</td>\n",
       "      <td>NaN</td>\n",
       "    </tr>\n",
       "    <tr>\n",
       "      <th>64015</th>\n",
       "      <td>110.0</td>\n",
       "      <td>NaN</td>\n",
       "    </tr>\n",
       "    <tr>\n",
       "      <th>...</th>\n",
       "      <td>...</td>\n",
       "      <td>...</td>\n",
       "    </tr>\n",
       "    <tr>\n",
       "      <th>66213</th>\n",
       "      <td>9.0</td>\n",
       "      <td>NaN</td>\n",
       "    </tr>\n",
       "    <tr>\n",
       "      <th>66214</th>\n",
       "      <td>2.0</td>\n",
       "      <td>NaN</td>\n",
       "    </tr>\n",
       "    <tr>\n",
       "      <th>66215</th>\n",
       "      <td>19.0</td>\n",
       "      <td>NaN</td>\n",
       "    </tr>\n",
       "    <tr>\n",
       "      <th>66223</th>\n",
       "      <td>3.0</td>\n",
       "      <td>NaN</td>\n",
       "    </tr>\n",
       "    <tr>\n",
       "      <th>66227</th>\n",
       "      <td>2.0</td>\n",
       "      <td>NaN</td>\n",
       "    </tr>\n",
       "  </tbody>\n",
       "</table>\n",
       "<p>171 rows × 2 columns</p>\n",
       "</div>"
      ],
      "text/plain": [
       "Firearm Used Flag  False  True \n",
       "Zip Code                       \n",
       "64011               10.0    NaN\n",
       "64012              132.0    NaN\n",
       "64013                7.0    2.0\n",
       "64014               20.0    NaN\n",
       "64015              110.0    NaN\n",
       "...                  ...    ...\n",
       "66213                9.0    NaN\n",
       "66214                2.0    NaN\n",
       "66215               19.0    NaN\n",
       "66223                3.0    NaN\n",
       "66227                2.0    NaN\n",
       "\n",
       "[171 rows x 2 columns]"
      ]
     },
     "execution_count": 18,
     "metadata": {},
     "output_type": "execute_result"
    }
   ],
   "source": [
    "# Number of crimes per zip code\n",
    "df[df['Zip Code'].isin(zipcodes_in_map)].pivot_table(index='Zip Code', columns='Firearm Used Flag', values='Reported_Date', aggfunc='count')"
   ]
  }
 ],
 "metadata": {
  "interpreter": {
   "hash": "fd57a6f198c5bcc4645c1b13de16e9accfcd0cda319ba40351c9d50107506e81"
  },
  "kernelspec": {
   "display_name": "Python 3.7.4 64-bit ('base': conda)",
   "language": "python",
   "name": "python3"
  },
  "language_info": {
   "codemirror_mode": {
    "name": "ipython",
    "version": 3
   },
   "file_extension": ".py",
   "mimetype": "text/x-python",
   "name": "python",
   "nbconvert_exporter": "python",
   "pygments_lexer": "ipython3",
   "version": "3.7.4"
  },
  "orig_nbformat": 4
 },
 "nbformat": 4,
 "nbformat_minor": 2
}
